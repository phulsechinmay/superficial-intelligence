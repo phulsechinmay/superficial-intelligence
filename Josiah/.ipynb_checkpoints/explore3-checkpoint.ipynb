{
 "cells": [
  {
   "cell_type": "code",
   "execution_count": 3,
   "metadata": {},
   "outputs": [],
   "source": [
    "import pandas as pd\n",
    "import numpy as np\n",
    "arr = np.array\n",
    "import seaborn as sns\n",
    "from math import ceil\n",
    "from matplotlib import pyplot as plt\n",
    "import datetime as dt"
   ]
  },
  {
   "cell_type": "code",
   "execution_count": 4,
   "metadata": {},
   "outputs": [],
   "source": [
    "dtype = {'trip_id': np.str,\n",
    "         'end_station': 'category',\n",
    "         'start_station': 'category',\n",
    "         'trip_route_category': 'category',\n",
    "         'passholder_type': 'category',\n",
    "         'bike_id': np.str,\n",
    "        }\n",
    "df = pd.read_csv('data/LABikeData.csv', dtype=dtype)"
   ]
  },
  {
   "cell_type": "code",
   "execution_count": 5,
   "metadata": {},
   "outputs": [],
   "source": [
    "# takes like 5 minutes!!\n",
    "df['start_time'] = pd.to_datetime(df['start_time'])\n",
    "df['end_time'] = pd.to_datetime(df['end_time'])"
   ]
  },
  {
   "cell_type": "code",
   "execution_count": 6,
   "metadata": {},
   "outputs": [],
   "source": [
    "df['start_time_sec'] = (df['start_time'] - dt.datetime(1970,1,1)).dt.total_seconds()\n",
    "df['end_time_sec'] = (df['end_time'] - dt.datetime(1970,1,1)).dt.total_seconds()"
   ]
  },
  {
   "cell_type": "code",
   "execution_count": 7,
   "metadata": {},
   "outputs": [],
   "source": [
    "df['duration'] = df['start_time_sec'] - df['end_time_sec']"
   ]
  },
  {
   "cell_type": "code",
   "execution_count": 28,
   "metadata": {},
   "outputs": [],
   "source": [
    "df2 = pd.read_csv('data/Station_Table.csv', names=['station', 'station_name', 'go_live_date', 'region', 'status'])\n",
    "# df2.go_live_date = pd.to_datetime(df2.go_live_date)"
   ]
  },
  {
   "cell_type": "code",
   "execution_count": 29,
   "metadata": {},
   "outputs": [],
   "source": [
    "# df2.groupby('Status').Station_ID.count()\n",
    "# df2.set_index('Go_live_date').groupby([pd.Grouper(freq='Y'), pd.Grouper(freq='M'), 'Region']).Station_ID.count()"
   ]
  },
  {
   "cell_type": "code",
   "execution_count": 30,
   "metadata": {},
   "outputs": [],
   "source": [
    "# counts = df.groupby('start_station')['start_station'].count().plot.bar()\n",
    "# sns.barplot(counts)"
   ]
  },
  {
   "cell_type": "code",
   "execution_count": 31,
   "metadata": {},
   "outputs": [],
   "source": [
    "merged = pd.merge(df, df2.add_prefix('start_'), on='start_station', how='left')\n",
    "merged = pd.merge(merged, df2.add_prefix('end_'), on='end_station', how='left')"
   ]
  },
  {
   "cell_type": "code",
   "execution_count": 32,
   "metadata": {},
   "outputs": [
    {
     "data": {
      "text/html": [
       "<div>\n",
       "<style scoped>\n",
       "    .dataframe tbody tr th:only-of-type {\n",
       "        vertical-align: middle;\n",
       "    }\n",
       "\n",
       "    .dataframe tbody tr th {\n",
       "        vertical-align: top;\n",
       "    }\n",
       "\n",
       "    .dataframe thead th {\n",
       "        text-align: right;\n",
       "    }\n",
       "</style>\n",
       "<table border=\"1\" class=\"dataframe\">\n",
       "  <thead>\n",
       "    <tr style=\"text-align: right;\">\n",
       "      <th></th>\n",
       "      <th>trip_id</th>\n",
       "      <th>bike_id</th>\n",
       "      <th>start_station</th>\n",
       "      <th>end_station</th>\n",
       "      <th>trip_route_category</th>\n",
       "      <th>start_time</th>\n",
       "      <th>end_time</th>\n",
       "      <th>start_lat</th>\n",
       "      <th>start_lon</th>\n",
       "      <th>end_lat</th>\n",
       "      <th>...</th>\n",
       "      <th>end_time_sec</th>\n",
       "      <th>duration</th>\n",
       "      <th>start_station_name</th>\n",
       "      <th>start_go_live_date</th>\n",
       "      <th>start_region</th>\n",
       "      <th>start_status</th>\n",
       "      <th>end_station_name</th>\n",
       "      <th>end_go_live_date</th>\n",
       "      <th>end_region</th>\n",
       "      <th>end_status</th>\n",
       "    </tr>\n",
       "  </thead>\n",
       "  <tbody>\n",
       "    <tr>\n",
       "      <th>0</th>\n",
       "      <td>1912818</td>\n",
       "      <td>6281</td>\n",
       "      <td>3014</td>\n",
       "      <td>3014</td>\n",
       "      <td>Round Trip</td>\n",
       "      <td>2016-07-07 04:17:00</td>\n",
       "      <td>2016-07-07 04:20:00</td>\n",
       "      <td>34.056610</td>\n",
       "      <td>-118.23721</td>\n",
       "      <td>34.056610</td>\n",
       "      <td>...</td>\n",
       "      <td>1.467865e+09</td>\n",
       "      <td>-180.0</td>\n",
       "      <td>Union Station West Portal</td>\n",
       "      <td>7/7/2016</td>\n",
       "      <td>DTLA</td>\n",
       "      <td>Active</td>\n",
       "      <td>Union Station West Portal</td>\n",
       "      <td>7/7/2016</td>\n",
       "      <td>DTLA</td>\n",
       "      <td>Active</td>\n",
       "    </tr>\n",
       "    <tr>\n",
       "      <th>1</th>\n",
       "      <td>1919661</td>\n",
       "      <td>6281</td>\n",
       "      <td>3014</td>\n",
       "      <td>3014</td>\n",
       "      <td>Round Trip</td>\n",
       "      <td>2016-07-07 06:00:00</td>\n",
       "      <td>2016-07-07 06:33:00</td>\n",
       "      <td>34.056610</td>\n",
       "      <td>-118.23721</td>\n",
       "      <td>34.056610</td>\n",
       "      <td>...</td>\n",
       "      <td>1.467873e+09</td>\n",
       "      <td>-1980.0</td>\n",
       "      <td>Union Station West Portal</td>\n",
       "      <td>7/7/2016</td>\n",
       "      <td>DTLA</td>\n",
       "      <td>Active</td>\n",
       "      <td>Union Station West Portal</td>\n",
       "      <td>7/7/2016</td>\n",
       "      <td>DTLA</td>\n",
       "      <td>Active</td>\n",
       "    </tr>\n",
       "    <tr>\n",
       "      <th>2</th>\n",
       "      <td>1933383</td>\n",
       "      <td>5861</td>\n",
       "      <td>3016</td>\n",
       "      <td>3016</td>\n",
       "      <td>Round Trip</td>\n",
       "      <td>2016-07-07 10:32:00</td>\n",
       "      <td>2016-07-07 10:37:00</td>\n",
       "      <td>34.052898</td>\n",
       "      <td>-118.24156</td>\n",
       "      <td>34.052898</td>\n",
       "      <td>...</td>\n",
       "      <td>1.467888e+09</td>\n",
       "      <td>-300.0</td>\n",
       "      <td>Los Angeles &amp; Temple</td>\n",
       "      <td>7/7/2016</td>\n",
       "      <td>DTLA</td>\n",
       "      <td>Active</td>\n",
       "      <td>Los Angeles &amp; Temple</td>\n",
       "      <td>7/7/2016</td>\n",
       "      <td>DTLA</td>\n",
       "      <td>Active</td>\n",
       "    </tr>\n",
       "    <tr>\n",
       "      <th>3</th>\n",
       "      <td>1944197</td>\n",
       "      <td>5861</td>\n",
       "      <td>3016</td>\n",
       "      <td>3016</td>\n",
       "      <td>Round Trip</td>\n",
       "      <td>2016-07-07 10:37:00</td>\n",
       "      <td>2016-07-07 13:38:00</td>\n",
       "      <td>34.052898</td>\n",
       "      <td>-118.24156</td>\n",
       "      <td>34.052898</td>\n",
       "      <td>...</td>\n",
       "      <td>1.467899e+09</td>\n",
       "      <td>-10860.0</td>\n",
       "      <td>Los Angeles &amp; Temple</td>\n",
       "      <td>7/7/2016</td>\n",
       "      <td>DTLA</td>\n",
       "      <td>Active</td>\n",
       "      <td>Los Angeles &amp; Temple</td>\n",
       "      <td>7/7/2016</td>\n",
       "      <td>DTLA</td>\n",
       "      <td>Active</td>\n",
       "    </tr>\n",
       "    <tr>\n",
       "      <th>4</th>\n",
       "      <td>1940317</td>\n",
       "      <td>6674</td>\n",
       "      <td>3032</td>\n",
       "      <td>3032</td>\n",
       "      <td>Round Trip</td>\n",
       "      <td>2016-07-07 12:51:00</td>\n",
       "      <td>2016-07-07 12:58:00</td>\n",
       "      <td>34.049889</td>\n",
       "      <td>-118.25588</td>\n",
       "      <td>34.049889</td>\n",
       "      <td>...</td>\n",
       "      <td>1.467896e+09</td>\n",
       "      <td>-420.0</td>\n",
       "      <td>Hope &amp; 6th</td>\n",
       "      <td>7/7/2016</td>\n",
       "      <td>DTLA</td>\n",
       "      <td>Active</td>\n",
       "      <td>Hope &amp; 6th</td>\n",
       "      <td>7/7/2016</td>\n",
       "      <td>DTLA</td>\n",
       "      <td>Active</td>\n",
       "    </tr>\n",
       "  </tbody>\n",
       "</table>\n",
       "<p>5 rows × 24 columns</p>\n",
       "</div>"
      ],
      "text/plain": [
       "   trip_id bike_id start_station end_station trip_route_category  \\\n",
       "0  1912818    6281          3014        3014          Round Trip   \n",
       "1  1919661    6281          3014        3014          Round Trip   \n",
       "2  1933383    5861          3016        3016          Round Trip   \n",
       "3  1944197    5861          3016        3016          Round Trip   \n",
       "4  1940317    6674          3032        3032          Round Trip   \n",
       "\n",
       "           start_time            end_time  start_lat  start_lon    end_lat  \\\n",
       "0 2016-07-07 04:17:00 2016-07-07 04:20:00  34.056610 -118.23721  34.056610   \n",
       "1 2016-07-07 06:00:00 2016-07-07 06:33:00  34.056610 -118.23721  34.056610   \n",
       "2 2016-07-07 10:32:00 2016-07-07 10:37:00  34.052898 -118.24156  34.052898   \n",
       "3 2016-07-07 10:37:00 2016-07-07 13:38:00  34.052898 -118.24156  34.052898   \n",
       "4 2016-07-07 12:51:00 2016-07-07 12:58:00  34.049889 -118.25588  34.049889   \n",
       "\n",
       "     ...      end_time_sec  duration         start_station_name  \\\n",
       "0    ...      1.467865e+09    -180.0  Union Station West Portal   \n",
       "1    ...      1.467873e+09   -1980.0  Union Station West Portal   \n",
       "2    ...      1.467888e+09    -300.0       Los Angeles & Temple   \n",
       "3    ...      1.467899e+09  -10860.0       Los Angeles & Temple   \n",
       "4    ...      1.467896e+09    -420.0                 Hope & 6th   \n",
       "\n",
       "   start_go_live_date  start_region  start_status           end_station_name  \\\n",
       "0            7/7/2016          DTLA        Active  Union Station West Portal   \n",
       "1            7/7/2016          DTLA        Active  Union Station West Portal   \n",
       "2            7/7/2016          DTLA        Active       Los Angeles & Temple   \n",
       "3            7/7/2016          DTLA        Active       Los Angeles & Temple   \n",
       "4            7/7/2016          DTLA        Active                 Hope & 6th   \n",
       "\n",
       "  end_go_live_date end_region end_status  \n",
       "0         7/7/2016       DTLA     Active  \n",
       "1         7/7/2016       DTLA     Active  \n",
       "2         7/7/2016       DTLA     Active  \n",
       "3         7/7/2016       DTLA     Active  \n",
       "4         7/7/2016       DTLA     Active  \n",
       "\n",
       "[5 rows x 24 columns]"
      ]
     },
     "execution_count": 32,
     "metadata": {},
     "output_type": "execute_result"
    }
   ],
   "source": [
    "merged.head()"
   ]
  },
  {
   "cell_type": "code",
   "execution_count": 34,
   "metadata": {},
   "outputs": [
    {
     "data": {
      "image/png": "[encoded data removed]",
      "text/plain": [
       "<Figure size 432x288 with 1 Axes>"
      ]
     },
     "metadata": {
      "needs_background": "light"
     },
     "output_type": "display_data"
    }
   ],
   "source": [
    "f = merged.groupby('start_region')['start_region'].count().plot.bar()"
   ]
  },
  {
   "cell_type": "code",
   "execution_count": 66,
   "metadata": {},
   "outputs": [
    {
     "data": {
      "image/png": "[encoded data removed]",
      "text/plain": [
       "<Figure size 432x288 with 1 Axes>"
      ]
     },
     "metadata": {
      "needs_background": "light"
     },
     "output_type": "display_data"
    }
   ],
   "source": [
    "f = lambda index: arr((index - dt.datetime(1970,1,1)).total_seconds())\n",
    "ntrips = merged.set_index('start_time').groupby([pd.Grouper(freq='W'), 'start_region'])['trip_id'].count().unstack(fill_value=np.nan)\n",
    "ax = sns.lineplot(y = ntrips['DTLA'].values, x = f(ntrips['DTLA'].index))\n",
    "ax = sns.lineplot(y = ntrips['Pasadena'].values, x = f(ntrips['Pasadena'].index))\n",
    "ax = sns.lineplot(y = ntrips['Port of LA'].values, x = f(ntrips['Port of LA'].index))\n",
    "ax = sns.lineplot(y = ntrips['Venice'].values, x = f(ntrips['Venice'].index))\n",
    "ax = sns.regplot(y = ntrips['DTLA'].values, x = f(ntrips['DTLA'].index), scatter=False)\n",
    "ax = sns.regplot(y = ntrips['Pasadena'].values, x = f(ntrips['Pasadena'].index), scatter=False)\n",
    "ax = sns.regplot(y = ntrips['Port of LA'].values, x = f(ntrips['Port of LA'].index), scatter=False)\n",
    "ax = sns.regplot(y = ntrips['Venice'].values, x = f(ntrips['Venice'].index), scatter=False)\n",
    "# ax.set_xlim([735955, 737070])\n",
    "plt.xticks(rotation=45)\n",
    "ax.set_xlabel('Week')\n",
    "ax.set_ylabel('Number of Trips')\n",
    "ax.set_title('Trips Per Week')\n",
    "ax.set_xticks([])\n",
    "plt.legend(['DTLA', 'Pasadena', 'Port of LA', 'Venice'])\n",
    "plt.show()"
   ]
  },
  {
   "cell_type": "code",
   "execution_count": null,
   "metadata": {},
   "outputs": [],
   "source": [
    "ntrips = df_sorted.set_index('start_time').groupby(['start_region', pd.Grouper(freq='M')])['trip_id'].count()\n",
    "sns.scatterplot(y = ntrips.values, x = ntrips.index, color='orange')\n",
    "ax = sns.lineplot(y = ntrips.values, x = ntrips.index)\n",
    "ax.set_xlim([735955, 737070])\n",
    "plt.xticks(rotation=45)\n",
    "ax.set_xlabel('Month')\n",
    "ax.set_ylabel('Number of Trips')\n",
    "ax.set_title('Number of Trips Per Month')\n",
    "plt.show()"
   ]
  }
 ],
 "metadata": {
  "anaconda-cloud": {},
  "kernelspec": {
   "display_name": "Python 3",
   "language": "python",
   "name": "python3"
  },
  "language_info": {
   "codemirror_mode": {
    "name": "ipython",
    "version": 3
   },
   "file_extension": ".py",
   "mimetype": "text/x-python",
   "name": "python",
   "nbconvert_exporter": "python",
   "pygments_lexer": "ipython3",
   "version": "3.7.0"
  }
 },
 "nbformat": 4,
 "nbformat_minor": 1
}
