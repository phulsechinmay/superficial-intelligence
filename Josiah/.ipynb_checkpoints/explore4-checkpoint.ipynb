{
 "cells": [
  {
   "cell_type": "code",
   "execution_count": 2,
   "metadata": {},
   "outputs": [],
   "source": [
    "import pandas as pd\n",
    "import numpy as np\n",
    "arr = np.array\n",
    "import seaborn as sns\n",
    "from math import ceil\n",
    "from matplotlib import pyplot as plt"
   ]
  },
  {
   "cell_type": "code",
   "execution_count": null,
   "metadata": {},
   "outputs": [],
   "source": [
    "dtype = {'trip_id': np.str,\n",
    "         'end_station': 'category',\n",
    "         'start_station': 'category',\n",
    "         'trip_route_category': 'category',\n",
    "         'passholder_type': 'category',\n",
    "         'bike_id': np.str,\n",
    "        }\n",
    "df = pd.read_csv('data/LABikeData.csv', dtype=dtype, parse_dates=['start_time', 'end_time'], infer_datetime_format=True)\n",
    "names=['station', 'station_name', 'go_live_date', 'region', 'status']\n",
    "dtype=dict(zip(names, ['category', np.str, np.str, np.str, np.str]))\n",
    "df2 = pd.read_csv('data/Station_Table.csv', skiprows=1, names=names, dtype=dtype, parse_dates=['go_live_date'], infer_datetime_format=True)\n",
    "df2.go_live_date = pd.to_datetime(df2.go_live_date)\n",
    "merged = pd.merge(df, df2.add_prefix('start_'), on='start_station', how='left')\n",
    "merged = pd.merge(merged, df2.add_prefix('end_'), on='end_station', how='left')\n",
    "dtla = merged[merged.start_region == 'DTLA']"
   ]
  },
  {
   "cell_type": "code",
   "execution_count": null,
   "metadata": {},
   "outputs": [],
   "source": [
    "series = dtla.set_index('start_time').groupby(pd.Grouper('D')).bike_id.count()\n",
    "X = series.values"
   ]
  },
  {
   "cell_type": "markdown",
   "metadata": {},
   "source": [
    "[tutorial here](https://machinelearningmastery.com/arima-for-time-series-forecasting-with-python/)"
   ]
  },
  {
   "cell_type": "code",
   "execution_count": null,
   "metadata": {},
   "outputs": [],
   "source": [
    "from pandas import datetime\n",
    "from statsmodels.tsa.arima_model import ARIMA\n",
    "from sklearn.metrics import mean_squared_error\n",
    "\n",
    "def parser(x):\n",
    "    return datetime.strptime('190'+x, '%Y-%m')\n",
    "\n",
    "size = int(len(X) * 0.66)\n",
    "train, test = X[0:size], X[size:len(X)]\n",
    "history = [x for x in train]\n",
    "predictions = list()\n",
    "for t in range(len(test)):\n",
    "    model = ARIMA(history, order=(5,1,0))\n",
    "    model_fit = model.fit(disp=0)\n",
    "    output = model_fit.forecast()\n",
    "    yhat = output[0]\n",
    "    predictions.append(yhat)\n",
    "    obs = test[t]\n",
    "    history.append(obs)\n",
    "    print('predicted=%f, expected=%f' % (yhat, obs))\n",
    "error = mean_squared_error(test, predictions)\n",
    "print('Test MSE: %.3f' % error)\n",
    "plt.plot(test)\n",
    "plt.plot(predictions, color='red')"
   ]
  }
 ],
 "metadata": {
  "anaconda-cloud": {},
  "kernelspec": {
   "display_name": "Python 3",
   "language": "python",
   "name": "python3"
  },
  "language_info": {
   "codemirror_mode": {
    "name": "ipython",
    "version": 3
   },
   "file_extension": ".py",
   "mimetype": "text/x-python",
   "name": "python",
   "nbconvert_exporter": "python",
   "pygments_lexer": "ipython3",
   "version": "3.7.0"
  }
 },
 "nbformat": 4,
 "nbformat_minor": 1
}
